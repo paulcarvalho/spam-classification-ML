{
 "cells": [
  {
   "cell_type": "markdown",
   "id": "606386a7",
   "metadata": {},
   "source": [
    "# Spam Classifier\n",
    "\n",
    "Overview:\n",
    "- Download examples of spam and ham.\n",
    "- Unzip the datasets and explore data format.\n",
    "- Split datasets into training and test sets.\n",
    "- Construct pipeline to convert email into a feature vector (sparse vector)."
   ]
  },
  {
   "cell_type": "code",
   "execution_count": null,
   "id": "d369072c",
   "metadata": {},
   "outputs": [],
   "source": [
    "import tarfile\n",
    "from pathlib import Path\n",
    "\n",
    "def fetch_spam_data():\n",
    "    spam_root = \"http://spamassassin.apache.org/old/publiccorpus/\"\n",
    "    ham_url = spam_root + \"20030228_easy_ham.tar.bz2\"\n",
    "    spam_url = spam_root + \"20030228_spam.tar.bz2\"\n",
    "\n",
    "    spam_path = Path() / \"datasets\" / \"spam\"\n",
    "    spam_path.mkdir(parents=True, exist_ok=True)\n",
    "    for dir_name, tar_name, url in ((\"easy_ham\", \"ham\", ham_url),\n",
    "                                    (\"spam\", \"spam\", spam_url)):\n",
    "        if not (spam_path / dir_name).is_dir():\n",
    "            path = (spam_path / tar_name).with_suffix(\".tar.bz2\")\n",
    "            print(\"Downloading...\", path)\n",
    "            urllib.request.urlretriece(url, path)\n",
    "            tar_bz2_file = tarfile.open(path)\n",
    "            tar_bz2_file.extractall(path=spam_path)\n",
    "            tar_bz2_file.close()\n",
    "    return [spam_path / dir_name for dir_name in (\"easy_ham\", \"spam\")]\n"
   ]
  },
  {
   "cell_type": "code",
   "execution_count": 10,
   "id": "3f1e558b",
   "metadata": {},
   "outputs": [
    {
     "ename": "TypeError",
     "evalue": "Path.mkdir() got an unexpected keyword argument 'exsit_ok'. Did you mean 'exist_ok'?",
     "output_type": "error",
     "traceback": [
      "\u001b[31m---------------------------------------------------------------------------\u001b[39m",
      "\u001b[31mTypeError\u001b[39m                                 Traceback (most recent call last)",
      "\u001b[36mCell\u001b[39m\u001b[36m \u001b[39m\u001b[32mIn[10]\u001b[39m\u001b[32m, line 1\u001b[39m\n\u001b[32m----> \u001b[39m\u001b[32m1\u001b[39m ham_dir, spam_dir = \u001b[43mfetch_spam_data\u001b[49m\u001b[43m(\u001b[49m\u001b[43m)\u001b[49m\n",
      "\u001b[36mCell\u001b[39m\u001b[36m \u001b[39m\u001b[32mIn[9]\u001b[39m\u001b[32m, line 10\u001b[39m, in \u001b[36mfetch_spam_data\u001b[39m\u001b[34m()\u001b[39m\n\u001b[32m      7\u001b[39m spam_url = spam_root + \u001b[33m\"\u001b[39m\u001b[33m20030228_spam.tar.bz2\u001b[39m\u001b[33m\"\u001b[39m\n\u001b[32m      9\u001b[39m spam_path = Path() / \u001b[33m\"\u001b[39m\u001b[33mdatasets\u001b[39m\u001b[33m\"\u001b[39m / \u001b[33m\"\u001b[39m\u001b[33mspam\u001b[39m\u001b[33m\"\u001b[39m\n\u001b[32m---> \u001b[39m\u001b[32m10\u001b[39m \u001b[43mspam_path\u001b[49m\u001b[43m.\u001b[49m\u001b[43mmkdir\u001b[49m\u001b[43m(\u001b[49m\u001b[43mparents\u001b[49m\u001b[43m=\u001b[49m\u001b[38;5;28;43;01mTrue\u001b[39;49;00m\u001b[43m,\u001b[49m\u001b[43m \u001b[49m\u001b[43mexsit_ok\u001b[49m\u001b[43m=\u001b[49m\u001b[38;5;28;43;01mTrue\u001b[39;49;00m\u001b[43m)\u001b[49m\n\u001b[32m     11\u001b[39m \u001b[38;5;28;01mfor\u001b[39;00m dir_name, tar_name, url \u001b[38;5;129;01min\u001b[39;00m ((\u001b[33m\"\u001b[39m\u001b[33measy_ham\u001b[39m\u001b[33m\"\u001b[39m, \u001b[33m\"\u001b[39m\u001b[33mham\u001b[39m\u001b[33m\"\u001b[39m, ham_url),\n\u001b[32m     12\u001b[39m                                 (\u001b[33m\"\u001b[39m\u001b[33mspam\u001b[39m\u001b[33m\"\u001b[39m, \u001b[33m\"\u001b[39m\u001b[33mspam\u001b[39m\u001b[33m\"\u001b[39m, spam_url)):\n\u001b[32m     13\u001b[39m     \u001b[38;5;28;01mif\u001b[39;00m \u001b[38;5;129;01mnot\u001b[39;00m (spam_path / dir_name).is_dir():\n",
      "\u001b[31mTypeError\u001b[39m: Path.mkdir() got an unexpected keyword argument 'exsit_ok'. Did you mean 'exist_ok'?"
     ]
    }
   ],
   "source": [
    "ham_dir, spam_dir = fetch_spam_data()"
   ]
  }
 ],
 "metadata": {
  "kernelspec": {
   "display_name": "venv",
   "language": "python",
   "name": "python3"
  },
  "language_info": {
   "codemirror_mode": {
    "name": "ipython",
    "version": 3
   },
   "file_extension": ".py",
   "mimetype": "text/x-python",
   "name": "python",
   "nbconvert_exporter": "python",
   "pygments_lexer": "ipython3",
   "version": "3.13.9"
  }
 },
 "nbformat": 4,
 "nbformat_minor": 5
}
